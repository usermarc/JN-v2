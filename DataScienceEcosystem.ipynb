{
 "cells": [
  {
   "cell_type": "markdown",
   "id": "a0d765cf-fe5d-4fe6-ab4b-950e399be6c6",
   "metadata": {},
   "source": [
    "# Data Science Tools and Ecosystem\n"
   ]
  },
  {
   "cell_type": "markdown",
   "id": "50a26790-b3ed-4af5-9602-10108f0d0b40",
   "metadata": {},
   "source": [
    "In this notebook, Data Science Tools and Ecosystem are summarized.\n",
    "\n"
   ]
  },
  {
   "cell_type": "markdown",
   "id": "3d19ca80-2775-4415-8d71-bb1ac857f7ac",
   "metadata": {},
   "source": [
    "**Objectives:**\n",
    "- List popular languages for Data Science\n",
    "- Create markdown cell with title of the notebook\n",
    "- Create a markdown cell for an introduction"
   ]
  },
  {
   "cell_type": "markdown",
   "id": "960e7e11-5234-45ce-a6cd-d73ec3fbacc7",
   "metadata": {},
   "source": [
    "Some of the popular languages that Data Scientists use are:\n",
    "1. HTML\n",
    "2. R\n",
    "3. Stata"
   ]
  },
  {
   "cell_type": "markdown",
   "id": "52fe3b4a-0b19-412a-a29a-1e5a55a1350b",
   "metadata": {},
   "source": [
    "Some of the commonly used libraries used by Data Scientists include:\n",
    "1. Matplotlib\n",
    "2. TensorFlow\n",
    "3. Keras"
   ]
  },
  {
   "cell_type": "markdown",
   "id": "adf50c65-e84f-4f87-aed3-28354f44c9d4",
   "metadata": {},
   "source": [
    "| Data Science Tools |\n",
    "| ------ |\n",
    "|RStudio |\n",
    "| Apache Spark |\n",
    "| TensorFlow |\n"
   ]
  },
  {
   "cell_type": "markdown",
   "id": "4d16e98c-d793-4aa9-94e1-752538c05977",
   "metadata": {},
   "source": [
    "Below are a few examples of evaluating arithmetic expressions in Python.\n",
    "\n"
   ]
  },
  {
   "cell_type": "code",
   "execution_count": 17,
   "id": "da8f0c79-ba4b-4ae6-a22f-5f918130aea0",
   "metadata": {},
   "outputs": [
    {
     "name": "stdout",
     "output_type": "stream",
     "text": [
      "This a simple arithmetic expression to mutiply then add integers\n"
     ]
    },
    {
     "data": {
      "text/plain": [
       "17"
      ]
     },
     "execution_count": 17,
     "metadata": {},
     "output_type": "execute_result"
    }
   ],
   "source": [
    "print('This a simple arithmetic expression to mutiply then add integers')\n",
    "(3*4)+5"
   ]
  },
  {
   "cell_type": "code",
   "execution_count": 19,
   "id": "2e85be7b-d0ee-41e3-ae8e-92d0c554a4b2",
   "metadata": {},
   "outputs": [
    {
     "name": "stdout",
     "output_type": "stream",
     "text": [
      "This will convert 200 minutes to hours by diving by 60\n"
     ]
    },
    {
     "data": {
      "text/plain": [
       "33.333333333333336"
      ]
     },
     "execution_count": 19,
     "metadata": {},
     "output_type": "execute_result"
    }
   ],
   "source": [
    "print('This will convert 200 minutes to hours by diving by 60')\n",
    "200/6"
   ]
  },
  {
   "cell_type": "markdown",
   "id": "2dc41d17-bfcb-4946-b85f-260b22f0071e",
   "metadata": {},
   "source": [
    "## Author\n",
    "Marc"
   ]
  },
  {
   "cell_type": "code",
   "execution_count": null,
   "id": "eb7a0566-351e-4d91-a7e7-2c48a1f0027b",
   "metadata": {},
   "outputs": [],
   "source": []
  }
 ],
 "metadata": {
  "kernelspec": {
   "display_name": "Python [conda env:base] *",
   "language": "python",
   "name": "conda-base-py"
  },
  "language_info": {
   "codemirror_mode": {
    "name": "ipython",
    "version": 3
   },
   "file_extension": ".py",
   "mimetype": "text/x-python",
   "name": "python",
   "nbconvert_exporter": "python",
   "pygments_lexer": "ipython3",
   "version": "3.12.7"
  }
 },
 "nbformat": 4,
 "nbformat_minor": 5
}
